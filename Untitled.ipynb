{
 "cells": [
  {
   "cell_type": "markdown",
   "metadata": {},
   "source": [
    "# Puzzle 1"
   ]
  },
  {
   "cell_type": "code",
   "execution_count": 1,
   "metadata": {},
   "outputs": [],
   "source": [
    "with open('data/day7_input.txt', 'r') as f:\n",
    "    instructions = f.readlines()\n",
    "    \n",
    "action_reaction = [(line.split()[1], line.split()[7]) for line in instructions]"
   ]
  },
  {
   "cell_type": "code",
   "execution_count": 2,
   "metadata": {},
   "outputs": [],
   "source": [
    "class Tree():\n",
    "    def __init__(self, letter):\n",
    "        self.value = letter\n",
    "        self.parents = []\n",
    "        self.children = []\n",
    "        self.unlocked = False"
   ]
  },
  {
   "cell_type": "code",
   "execution_count": 3,
   "metadata": {},
   "outputs": [],
   "source": [
    "total_values = set()\n",
    "for action, reaction in action_reaction:\n",
    "    total_values.add(action)\n",
    "    total_values.add(reaction)\n",
    "    \n",
    "tree_dict = {}\n",
    "for element in total_values:\n",
    "    tree_dict[element] = Tree(element)"
   ]
  },
  {
   "cell_type": "code",
   "execution_count": 4,
   "metadata": {},
   "outputs": [],
   "source": [
    "for action, reaction in action_reaction:\n",
    "    tree_dict[action].children += [reaction]\n",
    "    tree_dict[reaction].parents += [action]µ"
   ]
  },
  {
   "cell_type": "code",
   "execution_count": 5,
   "metadata": {},
   "outputs": [],
   "source": [
    "desired_order = []\n",
    "while tree_dict:\n",
    "    free_nodes = [key for key, value in tree_dict.items() if value.parents == []]  \n",
    "    free_nodes.sort()\n",
    "    action_node = free_nodes[0]\n",
    "    desired_order += [action_node]\n",
    "    tree_dict.pop(action_node)\n",
    "    for key, value in tree_dict.items():\n",
    "        value.parents = [parent for parent in value.parents if parent != action_node]"
   ]
  },
  {
   "cell_type": "code",
   "execution_count": 6,
   "metadata": {},
   "outputs": [
    {
     "name": "stdout",
     "output_type": "stream",
     "text": [
      "The correct order is: OKBNLPHCSVWAIRDGUZEFMXYTJQ\n"
     ]
    }
   ],
   "source": [
    "print(f\"The correct order is: {''.join(desired_order)}\")"
   ]
  },
  {
   "cell_type": "markdown",
   "metadata": {},
   "source": [
    "# Puzzle 2"
   ]
  },
  {
   "cell_type": "code",
   "execution_count": 7,
   "metadata": {},
   "outputs": [],
   "source": [
    "total_values = set()\n",
    "for action, reaction in action_reaction:\n",
    "    total_values.add(action)\n",
    "    total_values.add(reaction)\n",
    "    \n",
    "tree_dict = {}\n",
    "for element in total_values:\n",
    "    tree_dict[element] = Tree(element)\n",
    "    \n",
    "for action, reaction in action_reaction:\n",
    "    tree_dict[action].children += [reaction]\n",
    "    tree_dict[reaction].parents += [action]"
   ]
  },
  {
   "cell_type": "code",
   "execution_count": 8,
   "metadata": {},
   "outputs": [
    {
     "data": {
      "text/plain": [
       "{'J': <__main__.Tree at 0x10c0c0438>,\n",
       " 'I': <__main__.Tree at 0x10c0c0320>,\n",
       " 'X': <__main__.Tree at 0x10c0c02e8>,\n",
       " 'Q': <__main__.Tree at 0x10c0c03c8>,\n",
       " 'R': <__main__.Tree at 0x10c0c00f0>,\n",
       " 'O': <__main__.Tree at 0x10c0c0160>,\n",
       " 'S': <__main__.Tree at 0x10c0c0400>,\n",
       " 'H': <__main__.Tree at 0x10c0c0198>,\n",
       " 'Z': <__main__.Tree at 0x10c0c02b0>,\n",
       " 'Y': <__main__.Tree at 0x10c0c01d0>,\n",
       " 'U': <__main__.Tree at 0x10c0c0208>,\n",
       " 'D': <__main__.Tree at 0x10c0c0080>,\n",
       " 'W': <__main__.Tree at 0x10c0c04a8>,\n",
       " 'V': <__main__.Tree at 0x10c0c00b8>,\n",
       " 'B': <__main__.Tree at 0x10c0c0278>,\n",
       " 'P': <__main__.Tree at 0x10c0c0390>,\n",
       " 'A': <__main__.Tree at 0x10c0c0470>,\n",
       " 'F': <__main__.Tree at 0x10c0c0240>,\n",
       " 'M': <__main__.Tree at 0x10c0c0358>,\n",
       " 'K': <__main__.Tree at 0x10c0c0048>,\n",
       " 'L': <__main__.Tree at 0x10c0c0b38>,\n",
       " 'E': <__main__.Tree at 0x10c0c0b00>,\n",
       " 'G': <__main__.Tree at 0x10c0c0a58>,\n",
       " 'T': <__main__.Tree at 0x10c0c0ba8>,\n",
       " 'N': <__main__.Tree at 0x10c0c0be0>,\n",
       " 'C': <__main__.Tree at 0x10c0c0c18>}"
      ]
     },
     "execution_count": 8,
     "metadata": {},
     "output_type": "execute_result"
    }
   ],
   "source": [
    "time_elapsed = 0\n",
    "num_workers = 5\n",
    "\n",
    "while tree_dict:"
   ]
  },
  {
   "cell_type": "code",
   "execution_count": 11,
   "metadata": {},
   "outputs": [
    {
     "data": {
      "text/plain": [
       "61"
      ]
     },
     "execution_count": 11,
     "metadata": {},
     "output_type": "execute_result"
    }
   ],
   "source": [
    "ord('A') - 4"
   ]
  },
  {
   "cell_type": "code",
   "execution_count": 12,
   "metadata": {},
   "outputs": [
    {
     "data": {
      "text/plain": [
       "62"
      ]
     },
     "execution_count": 12,
     "metadata": {},
     "output_type": "execute_result"
    }
   ],
   "source": [
    "ord('B') - 4"
   ]
  },
  {
   "cell_type": "code",
   "execution_count": 13,
   "metadata": {},
   "outputs": [
    {
     "data": {
      "text/plain": [
       "86"
      ]
     },
     "execution_count": 13,
     "metadata": {},
     "output_type": "execute_result"
    }
   ],
   "source": [
    "ord('Z') - 4"
   ]
  },
  {
   "cell_type": "code",
   "execution_count": null,
   "metadata": {},
   "outputs": [],
   "source": []
  }
 ],
 "metadata": {
  "kernelspec": {
   "display_name": "Python 3",
   "language": "python",
   "name": "python3"
  },
  "language_info": {
   "codemirror_mode": {
    "name": "ipython",
    "version": 3
   },
   "file_extension": ".py",
   "mimetype": "text/x-python",
   "name": "python",
   "nbconvert_exporter": "python",
   "pygments_lexer": "ipython3",
   "version": "3.6.5"
  }
 },
 "nbformat": 4,
 "nbformat_minor": 2
}
