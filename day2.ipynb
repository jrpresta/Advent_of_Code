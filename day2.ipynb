{
 "cells": [
  {
   "cell_type": "markdown",
   "metadata": {},
   "source": [
    "# Advent Day 2"
   ]
  },
  {
   "cell_type": "markdown",
   "metadata": {},
   "source": [
    "[Day 2 Challenge](https://adventofcode.com/2018/day/2)"
   ]
  },
  {
   "cell_type": "markdown",
   "metadata": {},
   "source": [
    "# Puzzle 1"
   ]
  },
  {
   "cell_type": "code",
   "execution_count": 1,
   "metadata": {},
   "outputs": [],
   "source": [
    "from collections import Counter"
   ]
  },
  {
   "cell_type": "code",
   "execution_count": 2,
   "metadata": {},
   "outputs": [],
   "source": [
    "with open('data/day2_input.txt', 'r') as f:\n",
    "    box_ids = f.readlines()"
   ]
  },
  {
   "cell_type": "code",
   "execution_count": 3,
   "metadata": {},
   "outputs": [
    {
     "data": {
      "text/plain": [
       "9633"
      ]
     },
     "execution_count": 3,
     "metadata": {},
     "output_type": "execute_result"
    }
   ],
   "source": [
    "def pair_or_triplet_word_detector(word, occurences):\n",
    "    \"\"\"Returns whether WORD has any letters that occur OCCURENCES times\"\"\"\n",
    "    letters = list(word)\n",
    "    counts = Counter(letters)\n",
    "    return occurences in counts.values()\n",
    "\n",
    "def pair_and_triplet_counter(word_lst):\n",
    "    \"\"\"Counts the number of pairs or triplets in a list of words\"\"\"\n",
    "    pairs = 0\n",
    "    triplets = 0\n",
    "    for word in word_lst:\n",
    "        if pair_or_triplet_word_detector(word, 2):\n",
    "            pairs += 1\n",
    "        if pair_or_triplet_word_detector(word, 3):\n",
    "            triplets += 1\n",
    "    return (pairs, triplets)\n",
    "\n",
    "\n",
    "def checksum(word_lst):\n",
    "    pairs_and_triplets = pair_and_triplet_counter(word_lst)\n",
    "    return pairs_and_triplets[0] * pairs_and_triplets[1]\n",
    "\n",
    "\n",
    "checksum(box_ids)"
   ]
  },
  {
   "cell_type": "markdown",
   "metadata": {},
   "source": [
    "# Puzzle 2"
   ]
  },
  {
   "cell_type": "code",
   "execution_count": 4,
   "metadata": {},
   "outputs": [
    {
     "name": "stdout",
     "output_type": "stream",
     "text": [
      "lujnogabetpmsydyfcovzixaw\n",
      "\n"
     ]
    }
   ],
   "source": [
    "for i in range(len(box_ids)):\n",
    "    for j in range(i, len(box_ids)):\n",
    "        joined_words = list(zip(box_ids[i], box_ids[j]))\n",
    "        # Checks that the number of differences between the two lists in question is 1\n",
    "        if sum([a != b for a,b in joined_words]) == 1:\n",
    "            common_word = ''.join([a for a,b in joined_words if a == b])\n",
    "\n",
    "print(common_word)"
   ]
  }
 ],
 "metadata": {
  "kernelspec": {
   "display_name": "Python 3",
   "language": "python",
   "name": "python3"
  },
  "language_info": {
   "codemirror_mode": {
    "name": "ipython",
    "version": 3
   },
   "file_extension": ".py",
   "mimetype": "text/x-python",
   "name": "python",
   "nbconvert_exporter": "python",
   "pygments_lexer": "ipython3",
   "version": "3.6.5"
  }
 },
 "nbformat": 4,
 "nbformat_minor": 2
}
