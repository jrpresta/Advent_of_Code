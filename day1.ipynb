{
 "cells": [
  {
   "cell_type": "markdown",
   "metadata": {},
   "source": [
    "# Advent Day 1"
   ]
  },
  {
   "cell_type": "markdown",
   "metadata": {},
   "source": [
    "## Puzzle 1"
   ]
  },
  {
   "cell_type": "code",
   "execution_count": 1,
   "metadata": {},
   "outputs": [
    {
     "name": "stdout",
     "output_type": "stream",
     "text": [
      "The final resulting frequency is 484.\n"
     ]
    }
   ],
   "source": [
    "with open('data/day1_puzzle1_input.txt', 'r') as f:\n",
    "    changes = f.readlines()\n",
    "    change = sum([int(num.split()[0]) for num in changes])\n",
    "    \n",
    "print(f\"The final resulting frequency is {change}.\")"
   ]
  },
  {
   "cell_type": "markdown",
   "metadata": {},
   "source": [
    "## Puzzle 2"
   ]
  },
  {
   "cell_type": "code",
   "execution_count": 2,
   "metadata": {},
   "outputs": [],
   "source": [
    "from itertools import cycle"
   ]
  },
  {
   "cell_type": "code",
   "execution_count": 3,
   "metadata": {},
   "outputs": [
    {
     "name": "stdout",
     "output_type": "stream",
     "text": [
      "The first frequency to appear twice is 367.\n"
     ]
    }
   ],
   "source": [
    "frequency_iter = cycle(changes)\n",
    "previous_frequencies = set([])\n",
    "frequency_curr = 0\n",
    "\n",
    "while frequency_curr not in previous_frequencies:\n",
    "    previous_frequencies.add(frequency_curr)\n",
    "    frequency_curr += int(next(frequency_iter).split()[0])\n",
    "\n",
    "print(f\"The first frequency to appear twice is {frequency_curr}.\")"
   ]
  }
 ],
 "metadata": {
  "kernelspec": {
   "display_name": "Python 3",
   "language": "python",
   "name": "python3"
  },
  "language_info": {
   "codemirror_mode": {
    "name": "ipython",
    "version": 3
   },
   "file_extension": ".py",
   "mimetype": "text/x-python",
   "name": "python",
   "nbconvert_exporter": "python",
   "pygments_lexer": "ipython3",
   "version": "3.6.5"
  }
 },
 "nbformat": 4,
 "nbformat_minor": 2
}
