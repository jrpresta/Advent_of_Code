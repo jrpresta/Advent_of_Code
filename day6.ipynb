{
 "cells": [
  {
   "cell_type": "markdown",
   "metadata": {},
   "source": [
    "# Advent Day 6"
   ]
  },
  {
   "cell_type": "markdown",
   "metadata": {},
   "source": [
    "[Day 6 Challenge](https://adventofcode.com/2018/day/6)"
   ]
  },
  {
   "cell_type": "markdown",
   "metadata": {},
   "source": [
    "# Puzzle 1"
   ]
  },
  {
   "cell_type": "code",
   "execution_count": 1,
   "metadata": {},
   "outputs": [],
   "source": [
    "import matplotlib.pyplot as plt\n",
    "from collections import Counter\n",
    "%matplotlib inline"
   ]
  },
  {
   "cell_type": "code",
   "execution_count": 2,
   "metadata": {},
   "outputs": [],
   "source": [
    "with open('data/day6_input.txt', 'r') as f:\n",
    "    points = f.readlines()\n",
    "    \n",
    "points = [(int(line.split(',')[0]), int(line.split()[1])) for line in points]"
   ]
  },
  {
   "cell_type": "code",
   "execution_count": 3,
   "metadata": {},
   "outputs": [
    {
     "data": {
      "text/plain": [
       "<matplotlib.collections.PathCollection at 0x113cf8160>"
      ]
     },
     "execution_count": 3,
     "metadata": {},
     "output_type": "execute_result"
    },
    {
     "data": {
      "image/png": "[encoded data removed]",
      "text/plain": [
       "<matplotlib.figure.Figure at 0x113c8e668>"
      ]
     },
     "metadata": {},
     "output_type": "display_data"
    }
   ],
   "source": [
    "plt.scatter(x=[point[0] for point in points], \n",
    "            y=[point[1] for point in points])"
   ]
  },
  {
   "cell_type": "code",
   "execution_count": 4,
   "metadata": {},
   "outputs": [],
   "source": [
    "def manhattan_distance(pt1, pt2):\n",
    "    return abs(pt1[0] - pt2[0]) + abs(pt1[1] - pt2[1])"
   ]
  },
  {
   "cell_type": "markdown",
   "metadata": {},
   "source": [
    "The purpose of the following cell is to remove the points that have infinite area."
   ]
  },
  {
   "cell_type": "code",
   "execution_count": 5,
   "metadata": {},
   "outputs": [],
   "source": [
    "min_x = min([point[0] for point in points])\n",
    "max_x = max([point[0] for point in points])\n",
    "min_y = min([point[1] for point in points])\n",
    "max_y = max([point[1] for point in points])\n",
    "\n",
    "points_closest_to_a_point_beyond_the_border = set()\n",
    "\n",
    "for x in [min_x-1, max_x+1]:\n",
    "    for y in [min_y-1, max_y+1]:\n",
    "        points_closest_to_a_point_beyond_the_border.add(min(points, key = lambda point: manhattan_distance(point, (x, y))))\n",
    "\n",
    "\n",
    "points = set(points).difference(points_closest_to_a_point_beyond_the_border)"
   ]
  },
  {
   "cell_type": "markdown",
   "metadata": {},
   "source": [
    "This next cell creats an object that conveniently stores the Manhattan distance between all points of interest."
   ]
  },
  {
   "cell_type": "code",
   "execution_count": 6,
   "metadata": {},
   "outputs": [],
   "source": [
    "min_points = {}\n",
    "for i in range(min_x, max_x):\n",
    "    for j in range(min_y, max_y):\n",
    "        for point in points:\n",
    "            if (i,j) in min_points.keys():                \n",
    "                min_points[(i,j)] += [(point, manhattan_distance(point, (i,j)))]\n",
    "            else:\n",
    "                min_points[(i,j)] = [(point, manhattan_distance(point, (i,j)))]"
   ]
  },
  {
   "cell_type": "markdown",
   "metadata": {},
   "source": [
    "This cell sorts the nearest points, eliminates any points that are equidistant from multiple points of interest, and then finds the point of interest with the most points."
   ]
  },
  {
   "cell_type": "code",
   "execution_count": 7,
   "metadata": {},
   "outputs": [],
   "source": [
    "# Counter(min_points).most_common(15)\n",
    "for point, lst in min_points.items():\n",
    "    lst.sort(key=lambda point_distance_pair: point_distance_pair[1])\n",
    "    \n",
    "closest_points = []\n",
    "for point, lst in min_points.items():\n",
    "    if lst[0][1] != lst[1][1]:\n",
    "        closest_points += [lst[0][0]]\n",
    "\n",
    "largest_finite_area = Counter(closest_points).most_common(1)[0][1]"
   ]
  },
  {
   "cell_type": "code",
   "execution_count": 8,
   "metadata": {},
   "outputs": [
    {
     "name": "stdout",
     "output_type": "stream",
     "text": [
      "The largest finite area is 5429.\n"
     ]
    }
   ],
   "source": [
    "print(f\"The largest finite area is {largest_finite_area}.\")"
   ]
  },
  {
   "cell_type": "markdown",
   "metadata": {},
   "source": [
    "# Puzzle 2"
   ]
  },
  {
   "cell_type": "code",
   "execution_count": 9,
   "metadata": {},
   "outputs": [],
   "source": [
    "with open('data/day6_input.txt', 'r') as f:\n",
    "    points = f.readlines()\n",
    "    \n",
    "points = [(int(line.split(',')[0]), int(line.split()[1])) for line in points]"
   ]
  },
  {
   "cell_type": "code",
   "execution_count": 10,
   "metadata": {},
   "outputs": [],
   "source": [
    "points_within_max_dist = []\n",
    "max_dist = 10000\n",
    "\n",
    "for x in range(min_x, max_x):\n",
    "    for y in range(min_y, max_y):\n",
    "        total_dist = 0\n",
    "        for point in points:\n",
    "            if total_dist > max_dist:\n",
    "                break\n",
    "            else:\n",
    "                total_dist += manhattan_distance((x,y), point)\n",
    "        if total_dist < max_dist:\n",
    "            points_within_max_dist += [(x,y)]\n",
    "\n",
    "num_points = len(points_within_max_dist)"
   ]
  },
  {
   "cell_type": "code",
   "execution_count": 11,
   "metadata": {},
   "outputs": [
    {
     "name": "stdout",
     "output_type": "stream",
     "text": [
      "The number of points under 10000 Manhattan Distance from all points is 32614.\n"
     ]
    }
   ],
   "source": [
    "print(f\"The number of points under {max_dist} Manhattan Distance from all points is {num_points}.\")"
   ]
  }
 ],
 "metadata": {
  "kernelspec": {
   "display_name": "Python 3",
   "language": "python",
   "name": "python3"
  },
  "language_info": {
   "codemirror_mode": {
    "name": "ipython",
    "version": 3
   },
   "file_extension": ".py",
   "mimetype": "text/x-python",
   "name": "python",
   "nbconvert_exporter": "python",
   "pygments_lexer": "ipython3",
   "version": "3.6.5"
  }
 },
 "nbformat": 4,
 "nbformat_minor": 2
}
