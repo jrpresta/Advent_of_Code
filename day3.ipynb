{
 "cells": [
  {
   "cell_type": "markdown",
   "metadata": {},
   "source": [
    "# Day 3"
   ]
  },
  {
   "cell_type": "markdown",
   "metadata": {},
   "source": [
    "[Day 3 Challenge](https://adventofcode.com/2018/day/3)"
   ]
  },
  {
   "cell_type": "markdown",
   "metadata": {},
   "source": [
    "# Puzzle 1"
   ]
  },
  {
   "cell_type": "code",
   "execution_count": 1,
   "metadata": {
    "ExecuteTime": {
     "end_time": "2018-12-16T21:19:01.026924Z",
     "start_time": "2018-12-16T21:19:01.023220Z"
    }
   },
   "outputs": [],
   "source": [
    "with open('data/day3_input.txt') as f:\n",
    "    claims = f.readlines()"
   ]
  },
  {
   "cell_type": "code",
   "execution_count": 2,
   "metadata": {
    "ExecuteTime": {
     "end_time": "2018-12-16T21:19:01.036831Z",
     "start_time": "2018-12-16T21:19:01.028925Z"
    }
   },
   "outputs": [],
   "source": [
    "# splits the read lines into a more managable data structure\n",
    "split_claims = [claim.split() for claim in claims]\n",
    "claim_details = [(int(claim[2].split(',')[0]), \n",
    "                  int(claim[2].split(',')[1].split(':')[0]),\n",
    "                  int(claim[3].split('x')[0]),\n",
    "                  int(claim[3].split('x')[1]),\n",
    "                  claim[0]) for claim in split_claims]\n"
   ]
  },
  {
   "cell_type": "code",
   "execution_count": 3,
   "metadata": {
    "ExecuteTime": {
     "end_time": "2018-12-16T21:19:01.042165Z",
     "start_time": "2018-12-16T21:19:01.038739Z"
    }
   },
   "outputs": [],
   "source": [
    "# determines the bounds of the claims on the fabric\n",
    "\n",
    "x_max = max([detail[0] + detail[3] for detail in claim_details])\n",
    "y_max = max([detail[1] + detail[2] for detail in claim_details])"
   ]
  },
  {
   "cell_type": "code",
   "execution_count": 4,
   "metadata": {
    "ExecuteTime": {
     "end_time": "2018-12-16T21:19:01.087067Z",
     "start_time": "2018-12-16T21:19:01.044133Z"
    }
   },
   "outputs": [],
   "source": [
    "grid = [[0 for i in range(x_max)] for j in range(y_max)]"
   ]
  },
  {
   "cell_type": "code",
   "execution_count": 5,
   "metadata": {
    "ExecuteTime": {
     "end_time": "2018-12-16T21:19:01.326131Z",
     "start_time": "2018-12-16T21:19:01.088586Z"
    }
   },
   "outputs": [],
   "source": [
    "# indicates on the grid whether there are 0, 1, or more than 1 claims on a square inch\n",
    "\n",
    "for claim in claim_details:\n",
    "    for i in range(claim[3]):\n",
    "        for j in range(claim[2]):\n",
    "            if grid[j+claim[0]][i+claim[1]] in [0,1]:\n",
    "                grid[j+claim[0]][i+claim[1]] += 1"
   ]
  },
  {
   "cell_type": "code",
   "execution_count": 6,
   "metadata": {
    "ExecuteTime": {
     "end_time": "2018-12-16T21:19:01.362814Z",
     "start_time": "2018-12-16T21:19:01.328572Z"
    }
   },
   "outputs": [
    {
     "name": "stdout",
     "output_type": "stream",
     "text": [
      "The amount of overlapping square inches in the fabric is 120408.\n"
     ]
    }
   ],
   "source": [
    "# counts the total number of square inches on the grid with more than one claim\n",
    "\n",
    "overlap_total = sum([sum([1 for val in lst if val == 2]) for lst in grid])\n",
    "print(f\"The amount of overlapping square inches in the fabric is {overlap_total}.\")"
   ]
  },
  {
   "cell_type": "markdown",
   "metadata": {},
   "source": [
    "# Puzzle 2"
   ]
  },
  {
   "cell_type": "code",
   "execution_count": 7,
   "metadata": {
    "ExecuteTime": {
     "end_time": "2018-12-16T21:19:01.383329Z",
     "start_time": "2018-12-16T21:19:01.364802Z"
    }
   },
   "outputs": [
    {
     "name": "stdout",
     "output_type": "stream",
     "text": [
      "The single claim that does not overlap with any others is claim #1276\n"
     ]
    }
   ],
   "source": [
    "def is_contained(claim):\n",
    "    \"\"\"Checks a claim to see if all of the squares on the grid have less than 2 claims\"\"\"\n",
    "    for i in range(claim[3]):\n",
    "        for j in range(claim[2]):\n",
    "            if grid[j+claim[0]][i+claim[1]] == 2:\n",
    "                return False\n",
    "    return True\n",
    "\n",
    "for claim in claim_details:\n",
    "    if is_contained(claim):\n",
    "        print(f\"The single claim that does not overlap with any others is claim {claim[4]}\")"
   ]
  }
 ],
 "metadata": {
  "kernelspec": {
   "display_name": "Python 3",
   "language": "python",
   "name": "python3"
  },
  "language_info": {
   "codemirror_mode": {
    "name": "ipython",
    "version": 3
   },
   "file_extension": ".py",
   "mimetype": "text/x-python",
   "name": "python",
   "nbconvert_exporter": "python",
   "pygments_lexer": "ipython3",
   "version": "3.6.5"
  }
 },
 "nbformat": 4,
 "nbformat_minor": 2
}
