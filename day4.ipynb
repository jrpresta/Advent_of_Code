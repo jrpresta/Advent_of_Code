{
 "cells": [
  {
   "cell_type": "markdown",
   "metadata": {},
   "source": [
    "# Advent Day 4"
   ]
  },
  {
   "cell_type": "markdown",
   "metadata": {},
   "source": [
    "[Day 4 Challenge](https://adventofcode.com/2018/day/4)"
   ]
  },
  {
   "cell_type": "markdown",
   "metadata": {},
   "source": [
    "# Puzzle 1"
   ]
  },
  {
   "cell_type": "code",
   "execution_count": 1,
   "metadata": {},
   "outputs": [],
   "source": [
    "with open('data/day4_input.txt') as f:\n",
    "    entries = f.readlines()\n",
    "\n",
    "entries.sort()"
   ]
  },
  {
   "cell_type": "code",
   "execution_count": 18,
   "metadata": {},
   "outputs": [
    {
     "name": "stdout",
     "output_type": "stream",
     "text": [
      "The guard who slept the most is Guard #2441.\n"
     ]
    }
   ],
   "source": [
    "max_guard = (0,0)\n",
    "guard_sleep_log = {}\n",
    "\n",
    "for entry in entries:\n",
    "    split_str = entry.split()\n",
    "\n",
    "    if len(split_str) > 4:\n",
    "        guard_num = split_str[3].split('#')[1]\n",
    "    elif 'falls' in split_str:\n",
    "        sleep_minute = int(split_str[1].split(':')[1].split(']')[0])\n",
    "    else:\n",
    "        wake_minute = int(split_str[1].split(':')[1].split(']')[0])\n",
    "        if guard_num in guard_sleep_log.keys():\n",
    "            guard_sleep_log[guard_num] += [(sleep_minute, wake_minute)]\n",
    "        else:\n",
    "            guard_sleep_log[guard_num] = [(sleep_minute, wake_minute)]\n",
    "\n",
    "for guard, sleep_log in guard_sleep_log.items():\n",
    "    total_sleep = 0\n",
    "    for interval in sleep_log:\n",
    "        total_sleep += interval[1] - interval[0]\n",
    "    if total_sleep > max_guard[1]:\n",
    "        max_guard = (guard, total_sleep)\n",
    "\n",
    "biggest_sleeper = max_guard[0]\n",
    "print(f\"The guard who slept the most is Guard #{biggest_sleeper}.\")"
   ]
  },
  {
   "cell_type": "code",
   "execution_count": 19,
   "metadata": {},
   "outputs": [
    {
     "name": "stdout",
     "output_type": "stream",
     "text": [
      "The minute most commonly slept during by Guard #2441 is 39.\n"
     ]
    }
   ],
   "source": [
    "from collections import Counter\n",
    "specific_minutes_slept = []\n",
    "\n",
    "for sleep_invervals in guard_sleep_log[max_guard[0]]:\n",
    "#     print(sleep_invervals)\n",
    "    for time in range(sleep_invervals[0], sleep_invervals[1]):\n",
    "        specific_minutes_slept += [time]\n",
    "        \n",
    "most_slept_minute = Counter(specific_minutes_slept).most_common(1)[0][0]"
   ]
  },
  {
   "cell_type": "code",
   "execution_count": 55,
   "metadata": {},
   "outputs": [
    {
     "name": "stdout",
     "output_type": "stream",
     "text": [
      "The minute most commonly slept during by Guard #2441 is 39.\n",
      "The solution to the question is: 95199\n"
     ]
    }
   ],
   "source": [
    "print(f\"The minute most commonly slept during by Guard #{biggest_sleeper} is {most_slept_minute}.\")\n",
    "print(f\"The solution to the question is: {int(biggest_sleeper) * most_slept_minute}\")"
   ]
  },
  {
   "cell_type": "markdown",
   "metadata": {},
   "source": [
    "# Puzzle 2"
   ]
  },
  {
   "cell_type": "code",
   "execution_count": 54,
   "metadata": {},
   "outputs": [],
   "source": [
    "# guard_sleep_log\n",
    "all_guards_specific_minute = []\n",
    "\n",
    "for guard, sleep_log in guard_sleep_log.items():\n",
    "    for sleep_inverval in sleep_log:\n",
    "        for minutes_asleep in range(sleep_inverval[0], sleep_inverval[1]):\n",
    "            all_guards_specific_minute += [guard + ',' + str(minutes_asleep)]\n",
    "            \n",
    "guard, minute = Counter(all_guards_specific_minute).most_common(1)[0][0].split(',')"
   ]
  },
  {
   "cell_type": "code",
   "execution_count": 53,
   "metadata": {},
   "outputs": [
    {
     "name": "stdout",
     "output_type": "stream",
     "text": [
      "The most slept minute by a single guard was minute 33 by Guard #239.\n",
      "The desired solution to the question is: 7887\n"
     ]
    }
   ],
   "source": [
    "print(f\"The most slept minute by a single guard was minute {minute} by Guard #{guard}.\")\n",
    "print(f\"The desired solution to the question is: {int(minute) * int(guard)}\")"
   ]
  },
  {
   "cell_type": "code",
   "execution_count": null,
   "metadata": {},
   "outputs": [],
   "source": []
  }
 ],
 "metadata": {
  "kernelspec": {
   "display_name": "Python 3",
   "language": "python",
   "name": "python3"
  },
  "language_info": {
   "codemirror_mode": {
    "name": "ipython",
    "version": 3
   },
   "file_extension": ".py",
   "mimetype": "text/x-python",
   "name": "python",
   "nbconvert_exporter": "python",
   "pygments_lexer": "ipython3",
   "version": "3.6.5"
  }
 },
 "nbformat": 4,
 "nbformat_minor": 2
}
