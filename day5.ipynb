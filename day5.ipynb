{
 "cells": [
  {
   "cell_type": "markdown",
   "metadata": {},
   "source": [
    "# Day 5"
   ]
  },
  {
   "cell_type": "markdown",
   "metadata": {},
   "source": [
    "[Day 5 Challenge](https://adventofcode.com/2018/day/5)"
   ]
  },
  {
   "cell_type": "markdown",
   "metadata": {},
   "source": [
    "# Puzzle 1"
   ]
  },
  {
   "cell_type": "code",
   "execution_count": 15,
   "metadata": {
    "ExecuteTime": {
     "end_time": "2018-12-16T22:00:46.089132Z",
     "start_time": "2018-12-16T22:00:46.085546Z"
    }
   },
   "outputs": [],
   "source": [
    "with open('data/day5_input.txt', 'r') as f:\n",
    "    polymer = f.readlines()[0]"
   ]
  },
  {
   "cell_type": "raw",
   "metadata": {
    "slideshow": {
     "slide_type": "fragment"
    }
   },
   "source": [
    "It seems that I am unable to get the correct data from the website. "
   ]
  },
  {
   "cell_type": "code",
   "execution_count": 12,
   "metadata": {
    "ExecuteTime": {
     "end_time": "2018-12-16T21:49:44.072708Z",
     "start_time": "2018-12-16T21:49:44.069740Z"
    }
   },
   "outputs": [],
   "source": [
    "with open('data/day5_input.txt', 'r') as f:\n",
    "    polymer = f.read()"
   ]
  },
  {
   "cell_type": "code",
   "execution_count": 13,
   "metadata": {
    "ExecuteTime": {
     "end_time": "2018-12-16T21:51:03.531439Z",
     "start_time": "2018-12-16T21:49:44.864281Z"
    }
   },
   "outputs": [
    {
     "ename": "KeyboardInterrupt",
     "evalue": "",
     "output_type": "error",
     "traceback": [
      "\u001b[0;31m---------------------------------------------------------------------------\u001b[0m",
      "\u001b[0;31mKeyboardInterrupt\u001b[0m                         Traceback (most recent call last)",
      "\u001b[0;32m<ipython-input-13-dc8d066f91d7>\u001b[0m in \u001b[0;36m<module>\u001b[0;34m\u001b[0m\n\u001b[1;32m      3\u001b[0m \u001b[0mpolymer\u001b[0m \u001b[0;34m=\u001b[0m \u001b[0;34m'aAbBasdfasdfsaf'\u001b[0m\u001b[0;34m\u001b[0m\u001b[0m\n\u001b[1;32m      4\u001b[0m \u001b[0;32mwhile\u001b[0m \u001b[0mold_length\u001b[0m \u001b[0;34m!=\u001b[0m \u001b[0mnew_length\u001b[0m\u001b[0;34m:\u001b[0m\u001b[0;34m\u001b[0m\u001b[0m\n\u001b[0;32m----> 5\u001b[0;31m     \u001b[0mnew_string\u001b[0m \u001b[0;34m=\u001b[0m \u001b[0mpolymer\u001b[0m\u001b[0;34m\u001b[0m\u001b[0m\n\u001b[0m\u001b[1;32m      6\u001b[0m     \u001b[0mold_string\u001b[0m \u001b[0;34m=\u001b[0m \u001b[0;34m''\u001b[0m\u001b[0;34m\u001b[0m\u001b[0m\n\u001b[1;32m      7\u001b[0m \u001b[0;34m\u001b[0m\u001b[0m\n",
      "\u001b[0;31mKeyboardInterrupt\u001b[0m: "
     ]
    }
   ],
   "source": [
    "old_length = len(polymer)\n",
    "new_length = old_length + 1\n",
    "polymer = 'aAbBasdfasdfsaf'\n",
    "while old_length != new_length:\n",
    "    new_string = polymer\n",
    "    old_string = ''\n",
    "\n",
    "while new_string != old_string:\n",
    "    old_string = new_string\n",
    "    print(new_string)\n",
    "    for i in range(old_length-1):\n",
    "        is_reactive_pair = (new_string[i].lower() == new_string[i+1].lower()) and ((new_string[i].isupper() + new_string[i+1].islower()) % 2 == 0)\n",
    "#         print(is_reactive_pair)\n",
    "        if is_reactive_pair:\n",
    "#             print(polymer[i], polymer[i+1])\n",
    "#             print(is_reactive_pair)\n",
    "            new_string = new_string[:i] + new_string[i+2:]\n",
    "#             print(new_string)\n",
    "            break"
   ]
  },
  {
   "cell_type": "code",
   "execution_count": null,
   "metadata": {},
   "outputs": [],
   "source": []
  }
 ],
 "metadata": {
  "kernelspec": {
   "display_name": "Python 3",
   "language": "python",
   "name": "python3"
  },
  "language_info": {
   "codemirror_mode": {
    "name": "ipython",
    "version": 3
   },
   "file_extension": ".py",
   "mimetype": "text/x-python",
   "name": "python",
   "nbconvert_exporter": "python",
   "pygments_lexer": "ipython3",
   "version": "3.6.5"
  }
 },
 "nbformat": 4,
 "nbformat_minor": 2
}
